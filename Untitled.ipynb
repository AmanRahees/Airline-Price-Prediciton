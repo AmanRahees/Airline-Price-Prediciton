{
 "cells": [
  {
   "cell_type": "code",
   "execution_count": 1,
   "id": "d9f7553e",
   "metadata": {},
   "outputs": [],
   "source": [
    "import pandas as pd\n",
    "import numpy as np\n",
    "import matplotlib.pyplot as plt\n",
    "import seaborn as sns"
   ]
  },
  {
   "cell_type": "code",
   "execution_count": 2,
   "id": "36f627f8",
   "metadata": {},
   "outputs": [],
   "source": [
    "df1 = pd.read_csv('Data/BLR_MCT.csv')\n",
    "df2 = pd.read_csv('Data/BOM_CCU.csv')\n",
    "df3 = pd.read_csv('Data/CCJ_DXB.csv')\n",
    "df4 = pd.read_csv('Data/CCJ_MCT.csv')\n",
    "df5 = pd.read_csv('Data/DEL_DXB.csv')"
   ]
  },
  {
   "cell_type": "code",
   "execution_count": 3,
   "id": "60bfa193",
   "metadata": {},
   "outputs": [],
   "source": [
    "data = pd.concat([df1, df2, df3, df4, df5], axis=0)"
   ]
  },
  {
   "cell_type": "code",
   "execution_count": 4,
   "id": "4eee364b",
   "metadata": {},
   "outputs": [
    {
     "data": {
      "text/html": [
       "<div>\n",
       "<style scoped>\n",
       "    .dataframe tbody tr th:only-of-type {\n",
       "        vertical-align: middle;\n",
       "    }\n",
       "\n",
       "    .dataframe tbody tr th {\n",
       "        vertical-align: top;\n",
       "    }\n",
       "\n",
       "    .dataframe thead th {\n",
       "        text-align: right;\n",
       "    }\n",
       "</style>\n",
       "<table border=\"1\" class=\"dataframe\">\n",
       "  <thead>\n",
       "    <tr style=\"text-align: right;\">\n",
       "      <th></th>\n",
       "      <th>Airline</th>\n",
       "      <th>Departure Time</th>\n",
       "      <th>Arrival Time</th>\n",
       "      <th>Duration</th>\n",
       "      <th>Total stops</th>\n",
       "      <th>Price</th>\n",
       "      <th>Date</th>\n",
       "      <th>Class</th>\n",
       "      <th>Origin</th>\n",
       "      <th>Destination</th>\n",
       "    </tr>\n",
       "  </thead>\n",
       "  <tbody>\n",
       "    <tr>\n",
       "      <th>0</th>\n",
       "      <td>Oman Air</td>\n",
       "      <td>10:10</td>\n",
       "      <td>12:15</td>\n",
       "      <td>3h 35m</td>\n",
       "      <td>direct</td>\n",
       "      <td>₹ 17,561</td>\n",
       "      <td>2023-06-05</td>\n",
       "      <td>Economy</td>\n",
       "      <td>BLR</td>\n",
       "      <td>MCT</td>\n",
       "    </tr>\n",
       "    <tr>\n",
       "      <th>1</th>\n",
       "      <td>Air India</td>\n",
       "      <td>21:25</td>\n",
       "      <td>22:50</td>\n",
       "      <td>26h 55m</td>\n",
       "      <td>1 stop</td>\n",
       "      <td>₹ 9,617</td>\n",
       "      <td>2023-06-05</td>\n",
       "      <td>Economy</td>\n",
       "      <td>BLR</td>\n",
       "      <td>MCT</td>\n",
       "    </tr>\n",
       "    <tr>\n",
       "      <th>2</th>\n",
       "      <td>Oman Air</td>\n",
       "      <td>15:40</td>\n",
       "      <td>17:45</td>\n",
       "      <td>3h 35m</td>\n",
       "      <td>direct</td>\n",
       "      <td>₹ 17,561</td>\n",
       "      <td>2023-06-05</td>\n",
       "      <td>Economy</td>\n",
       "      <td>BLR</td>\n",
       "      <td>MCT</td>\n",
       "    </tr>\n",
       "    <tr>\n",
       "      <th>3</th>\n",
       "      <td>Vistara</td>\n",
       "      <td>19:00</td>\n",
       "      <td>23:25</td>\n",
       "      <td>5h 55m</td>\n",
       "      <td>1 stop</td>\n",
       "      <td>₹ 11,067</td>\n",
       "      <td>2023-06-05</td>\n",
       "      <td>Economy</td>\n",
       "      <td>BLR</td>\n",
       "      <td>MCT</td>\n",
       "    </tr>\n",
       "    <tr>\n",
       "      <th>4</th>\n",
       "      <td>IndiGo</td>\n",
       "      <td>19:50</td>\n",
       "      <td>01:40</td>\n",
       "      <td>7h 20m</td>\n",
       "      <td>1 stop</td>\n",
       "      <td>₹ 11,968</td>\n",
       "      <td>2023-06-05</td>\n",
       "      <td>Economy</td>\n",
       "      <td>BLR</td>\n",
       "      <td>MCT</td>\n",
       "    </tr>\n",
       "  </tbody>\n",
       "</table>\n",
       "</div>"
      ],
      "text/plain": [
       "     Airline Departure Time Arrival Time Duration Total stops     Price   \n",
       "0   Oman Air          10:10        12:15   3h 35m      direct  ₹ 17,561  \\\n",
       "1  Air India          21:25        22:50  26h 55m      1 stop   ₹ 9,617   \n",
       "2   Oman Air          15:40        17:45   3h 35m      direct  ₹ 17,561   \n",
       "3    Vistara          19:00        23:25   5h 55m      1 stop  ₹ 11,067   \n",
       "4     IndiGo          19:50        01:40   7h 20m      1 stop  ₹ 11,968   \n",
       "\n",
       "         Date    Class Origin Destination  \n",
       "0  2023-06-05  Economy    BLR         MCT  \n",
       "1  2023-06-05  Economy    BLR         MCT  \n",
       "2  2023-06-05  Economy    BLR         MCT  \n",
       "3  2023-06-05  Economy    BLR         MCT  \n",
       "4  2023-06-05  Economy    BLR         MCT  "
      ]
     },
     "execution_count": 4,
     "metadata": {},
     "output_type": "execute_result"
    }
   ],
   "source": [
    "data.head()"
   ]
  },
  {
   "cell_type": "code",
   "execution_count": 5,
   "id": "1bee2536",
   "metadata": {},
   "outputs": [],
   "source": [
    "data['Price'] = data['Price'].str.replace('[^0-9]', '', regex=True)"
   ]
  },
  {
   "cell_type": "code",
   "execution_count": 6,
   "id": "c6968641",
   "metadata": {},
   "outputs": [
    {
     "data": {
      "text/html": [
       "<div>\n",
       "<style scoped>\n",
       "    .dataframe tbody tr th:only-of-type {\n",
       "        vertical-align: middle;\n",
       "    }\n",
       "\n",
       "    .dataframe tbody tr th {\n",
       "        vertical-align: top;\n",
       "    }\n",
       "\n",
       "    .dataframe thead th {\n",
       "        text-align: right;\n",
       "    }\n",
       "</style>\n",
       "<table border=\"1\" class=\"dataframe\">\n",
       "  <thead>\n",
       "    <tr style=\"text-align: right;\">\n",
       "      <th></th>\n",
       "      <th>Airline</th>\n",
       "      <th>Departure Time</th>\n",
       "      <th>Arrival Time</th>\n",
       "      <th>Duration</th>\n",
       "      <th>Total stops</th>\n",
       "      <th>Price</th>\n",
       "      <th>Date</th>\n",
       "      <th>Class</th>\n",
       "      <th>Origin</th>\n",
       "      <th>Destination</th>\n",
       "    </tr>\n",
       "  </thead>\n",
       "  <tbody>\n",
       "    <tr>\n",
       "      <th>0</th>\n",
       "      <td>Oman Air</td>\n",
       "      <td>10:10</td>\n",
       "      <td>12:15</td>\n",
       "      <td>3h 35m</td>\n",
       "      <td>direct</td>\n",
       "      <td>17561</td>\n",
       "      <td>2023-06-05</td>\n",
       "      <td>Economy</td>\n",
       "      <td>BLR</td>\n",
       "      <td>MCT</td>\n",
       "    </tr>\n",
       "    <tr>\n",
       "      <th>1</th>\n",
       "      <td>Air India</td>\n",
       "      <td>21:25</td>\n",
       "      <td>22:50</td>\n",
       "      <td>26h 55m</td>\n",
       "      <td>1 stop</td>\n",
       "      <td>9617</td>\n",
       "      <td>2023-06-05</td>\n",
       "      <td>Economy</td>\n",
       "      <td>BLR</td>\n",
       "      <td>MCT</td>\n",
       "    </tr>\n",
       "    <tr>\n",
       "      <th>2</th>\n",
       "      <td>Oman Air</td>\n",
       "      <td>15:40</td>\n",
       "      <td>17:45</td>\n",
       "      <td>3h 35m</td>\n",
       "      <td>direct</td>\n",
       "      <td>17561</td>\n",
       "      <td>2023-06-05</td>\n",
       "      <td>Economy</td>\n",
       "      <td>BLR</td>\n",
       "      <td>MCT</td>\n",
       "    </tr>\n",
       "    <tr>\n",
       "      <th>3</th>\n",
       "      <td>Vistara</td>\n",
       "      <td>19:00</td>\n",
       "      <td>23:25</td>\n",
       "      <td>5h 55m</td>\n",
       "      <td>1 stop</td>\n",
       "      <td>11067</td>\n",
       "      <td>2023-06-05</td>\n",
       "      <td>Economy</td>\n",
       "      <td>BLR</td>\n",
       "      <td>MCT</td>\n",
       "    </tr>\n",
       "    <tr>\n",
       "      <th>4</th>\n",
       "      <td>IndiGo</td>\n",
       "      <td>19:50</td>\n",
       "      <td>01:40</td>\n",
       "      <td>7h 20m</td>\n",
       "      <td>1 stop</td>\n",
       "      <td>11968</td>\n",
       "      <td>2023-06-05</td>\n",
       "      <td>Economy</td>\n",
       "      <td>BLR</td>\n",
       "      <td>MCT</td>\n",
       "    </tr>\n",
       "  </tbody>\n",
       "</table>\n",
       "</div>"
      ],
      "text/plain": [
       "     Airline Departure Time Arrival Time Duration Total stops  Price   \n",
       "0   Oman Air          10:10        12:15   3h 35m      direct  17561  \\\n",
       "1  Air India          21:25        22:50  26h 55m      1 stop   9617   \n",
       "2   Oman Air          15:40        17:45   3h 35m      direct  17561   \n",
       "3    Vistara          19:00        23:25   5h 55m      1 stop  11067   \n",
       "4     IndiGo          19:50        01:40   7h 20m      1 stop  11968   \n",
       "\n",
       "         Date    Class Origin Destination  \n",
       "0  2023-06-05  Economy    BLR         MCT  \n",
       "1  2023-06-05  Economy    BLR         MCT  \n",
       "2  2023-06-05  Economy    BLR         MCT  \n",
       "3  2023-06-05  Economy    BLR         MCT  \n",
       "4  2023-06-05  Economy    BLR         MCT  "
      ]
     },
     "execution_count": 6,
     "metadata": {},
     "output_type": "execute_result"
    }
   ],
   "source": [
    "data.head()"
   ]
  },
  {
   "cell_type": "code",
   "execution_count": 7,
   "id": "59845e79",
   "metadata": {},
   "outputs": [],
   "source": [
    "data['Price'] = data['Price'].astype(int)"
   ]
  },
  {
   "cell_type": "code",
   "execution_count": 8,
   "id": "13e478aa",
   "metadata": {},
   "outputs": [
    {
     "name": "stdout",
     "output_type": "stream",
     "text": [
      "<class 'pandas.core.frame.DataFrame'>\n",
      "Index: 479822 entries, 0 to 29272\n",
      "Data columns (total 10 columns):\n",
      " #   Column          Non-Null Count   Dtype \n",
      "---  ------          --------------   ----- \n",
      " 0   Airline         479822 non-null  object\n",
      " 1   Departure Time  479822 non-null  object\n",
      " 2   Arrival Time    479822 non-null  object\n",
      " 3   Duration        479822 non-null  object\n",
      " 4   Total stops     479822 non-null  object\n",
      " 5   Price           479822 non-null  int32 \n",
      " 6   Date            479822 non-null  object\n",
      " 7   Class           479822 non-null  object\n",
      " 8   Origin          479822 non-null  object\n",
      " 9   Destination     479822 non-null  object\n",
      "dtypes: int32(1), object(9)\n",
      "memory usage: 38.4+ MB\n"
     ]
    }
   ],
   "source": [
    "data.info()"
   ]
  },
  {
   "cell_type": "code",
   "execution_count": 9,
   "id": "13cc31be",
   "metadata": {},
   "outputs": [],
   "source": [
    "data['Date'] =  pd.to_datetime(data['Date'], format='%Y-%m-%d')\n",
    "data['Month'] = pd.to_datetime(data['Date']).dt.month\n",
    "data['Day'] = pd.to_datetime(data['Date']).dt.day"
   ]
  },
  {
   "cell_type": "code",
   "execution_count": 10,
   "id": "8a21e9d5",
   "metadata": {},
   "outputs": [],
   "source": [
    "data['Departure Time'] = pd.to_datetime(data['Departure Time'], format='%H:%M')\n",
    "data['Departure Hour'] = pd.to_datetime(data['Departure Time']).dt.hour\n",
    "data['Departure Minute'] = pd.to_datetime(data['Departure Time']).dt.minute"
   ]
  },
  {
   "cell_type": "code",
   "execution_count": 11,
   "id": "855d6993",
   "metadata": {},
   "outputs": [],
   "source": [
    "data['Arrival Time'] = pd.to_datetime(data['Arrival Time'], format='%H:%M')\n",
    "data['Arrival Hour'] = pd.to_datetime(data['Arrival Time']).dt.hour\n",
    "data['Arrival Minute'] = pd.to_datetime(data['Arrival Time']).dt.minute"
   ]
  },
  {
   "cell_type": "code",
   "execution_count": 12,
   "id": "228b89e7",
   "metadata": {},
   "outputs": [],
   "source": [
    "duration = list(data['Duration'])\n",
    "\n",
    "for i in range(len(duration)):\n",
    "    if len(duration[i].split()) != 2: # Check if duration contains only hour or mins\n",
    "        if \"h\" in duration[i]:\n",
    "            duration[i] = duration[i].strip() + \" 0m\"\n",
    "        else:\n",
    "            duration[i] = \"0h\" + duration[i] \n",
    "            \n",
    "duration_hours = []\n",
    "duration_mins = []\n",
    "\n",
    "for j in range(len(duration)):\n",
    "    # Extract hours from duration\n",
    "    duration_hours.append(int(duration[j].split(sep=\"h\")[0])) \n",
    "    # Extracts only minutes from duration\n",
    "    duration_mins.append(int(duration[j].split(sep=\"m\")[0].split()[-1].replace(\"h\", \"\").replace(\"m\", \"\")))\n",
    "    \n",
    "data['Duration_hours'] = duration_hours\n",
    "data['Duration_minutes'] = duration_mins"
   ]
  },
  {
   "cell_type": "code",
   "execution_count": 13,
   "id": "52bc7695",
   "metadata": {},
   "outputs": [],
   "source": [
    "data.drop(['Date', 'Departure Time', 'Arrival Time', 'Duration'], axis=1, inplace=True)"
   ]
  },
  {
   "cell_type": "code",
   "execution_count": 14,
   "id": "22b8b472",
   "metadata": {},
   "outputs": [
    {
     "data": {
      "text/html": [
       "<div>\n",
       "<style scoped>\n",
       "    .dataframe tbody tr th:only-of-type {\n",
       "        vertical-align: middle;\n",
       "    }\n",
       "\n",
       "    .dataframe tbody tr th {\n",
       "        vertical-align: top;\n",
       "    }\n",
       "\n",
       "    .dataframe thead th {\n",
       "        text-align: right;\n",
       "    }\n",
       "</style>\n",
       "<table border=\"1\" class=\"dataframe\">\n",
       "  <thead>\n",
       "    <tr style=\"text-align: right;\">\n",
       "      <th></th>\n",
       "      <th>Airline</th>\n",
       "      <th>Total stops</th>\n",
       "      <th>Price</th>\n",
       "      <th>Class</th>\n",
       "      <th>Origin</th>\n",
       "      <th>Destination</th>\n",
       "      <th>Month</th>\n",
       "      <th>Day</th>\n",
       "      <th>Departure Hour</th>\n",
       "      <th>Departure Minute</th>\n",
       "      <th>Arrival Hour</th>\n",
       "      <th>Arrival Minute</th>\n",
       "      <th>Duration_hours</th>\n",
       "      <th>Duration_minutes</th>\n",
       "    </tr>\n",
       "  </thead>\n",
       "  <tbody>\n",
       "    <tr>\n",
       "      <th>0</th>\n",
       "      <td>Oman Air</td>\n",
       "      <td>direct</td>\n",
       "      <td>17561</td>\n",
       "      <td>Economy</td>\n",
       "      <td>BLR</td>\n",
       "      <td>MCT</td>\n",
       "      <td>6</td>\n",
       "      <td>5</td>\n",
       "      <td>10</td>\n",
       "      <td>10</td>\n",
       "      <td>12</td>\n",
       "      <td>15</td>\n",
       "      <td>3</td>\n",
       "      <td>35</td>\n",
       "    </tr>\n",
       "    <tr>\n",
       "      <th>1</th>\n",
       "      <td>Air India</td>\n",
       "      <td>1 stop</td>\n",
       "      <td>9617</td>\n",
       "      <td>Economy</td>\n",
       "      <td>BLR</td>\n",
       "      <td>MCT</td>\n",
       "      <td>6</td>\n",
       "      <td>5</td>\n",
       "      <td>21</td>\n",
       "      <td>25</td>\n",
       "      <td>22</td>\n",
       "      <td>50</td>\n",
       "      <td>26</td>\n",
       "      <td>55</td>\n",
       "    </tr>\n",
       "    <tr>\n",
       "      <th>2</th>\n",
       "      <td>Oman Air</td>\n",
       "      <td>direct</td>\n",
       "      <td>17561</td>\n",
       "      <td>Economy</td>\n",
       "      <td>BLR</td>\n",
       "      <td>MCT</td>\n",
       "      <td>6</td>\n",
       "      <td>5</td>\n",
       "      <td>15</td>\n",
       "      <td>40</td>\n",
       "      <td>17</td>\n",
       "      <td>45</td>\n",
       "      <td>3</td>\n",
       "      <td>35</td>\n",
       "    </tr>\n",
       "    <tr>\n",
       "      <th>3</th>\n",
       "      <td>Vistara</td>\n",
       "      <td>1 stop</td>\n",
       "      <td>11067</td>\n",
       "      <td>Economy</td>\n",
       "      <td>BLR</td>\n",
       "      <td>MCT</td>\n",
       "      <td>6</td>\n",
       "      <td>5</td>\n",
       "      <td>19</td>\n",
       "      <td>0</td>\n",
       "      <td>23</td>\n",
       "      <td>25</td>\n",
       "      <td>5</td>\n",
       "      <td>55</td>\n",
       "    </tr>\n",
       "    <tr>\n",
       "      <th>4</th>\n",
       "      <td>IndiGo</td>\n",
       "      <td>1 stop</td>\n",
       "      <td>11968</td>\n",
       "      <td>Economy</td>\n",
       "      <td>BLR</td>\n",
       "      <td>MCT</td>\n",
       "      <td>6</td>\n",
       "      <td>5</td>\n",
       "      <td>19</td>\n",
       "      <td>50</td>\n",
       "      <td>1</td>\n",
       "      <td>40</td>\n",
       "      <td>7</td>\n",
       "      <td>20</td>\n",
       "    </tr>\n",
       "  </tbody>\n",
       "</table>\n",
       "</div>"
      ],
      "text/plain": [
       "     Airline Total stops  Price    Class Origin Destination  Month  Day   \n",
       "0   Oman Air      direct  17561  Economy    BLR         MCT      6    5  \\\n",
       "1  Air India      1 stop   9617  Economy    BLR         MCT      6    5   \n",
       "2   Oman Air      direct  17561  Economy    BLR         MCT      6    5   \n",
       "3    Vistara      1 stop  11067  Economy    BLR         MCT      6    5   \n",
       "4     IndiGo      1 stop  11968  Economy    BLR         MCT      6    5   \n",
       "\n",
       "   Departure Hour  Departure Minute  Arrival Hour  Arrival Minute   \n",
       "0              10                10            12              15  \\\n",
       "1              21                25            22              50   \n",
       "2              15                40            17              45   \n",
       "3              19                 0            23              25   \n",
       "4              19                50             1              40   \n",
       "\n",
       "   Duration_hours  Duration_minutes  \n",
       "0               3                35  \n",
       "1              26                55  \n",
       "2               3                35  \n",
       "3               5                55  \n",
       "4               7                20  "
      ]
     },
     "execution_count": 14,
     "metadata": {},
     "output_type": "execute_result"
    }
   ],
   "source": [
    "data.head()"
   ]
  },
  {
   "cell_type": "markdown",
   "id": "f4395476",
   "metadata": {},
   "source": [
    "# Labeling categorical data"
   ]
  },
  {
   "cell_type": "code",
   "execution_count": 15,
   "id": "5ea642c0",
   "metadata": {},
   "outputs": [],
   "source": [
    "from sklearn.preprocessing import LabelEncoder\n",
    "\n",
    "lbn = LabelEncoder()"
   ]
  },
  {
   "cell_type": "code",
   "execution_count": 16,
   "id": "339684cf",
   "metadata": {},
   "outputs": [],
   "source": [
    "data['Airline'] = lbn.fit_transform(data['Airline'])\n",
    "data['Origin'] = lbn.fit_transform(data['Origin'])\n",
    "data['Destination'] = lbn.fit_transform(data['Destination'])\n",
    "data['Class'] = lbn.fit_transform(data['Class'])"
   ]
  },
  {
   "cell_type": "code",
   "execution_count": 17,
   "id": "314a62b0",
   "metadata": {},
   "outputs": [
    {
     "data": {
      "text/html": [
       "<div>\n",
       "<style scoped>\n",
       "    .dataframe tbody tr th:only-of-type {\n",
       "        vertical-align: middle;\n",
       "    }\n",
       "\n",
       "    .dataframe tbody tr th {\n",
       "        vertical-align: top;\n",
       "    }\n",
       "\n",
       "    .dataframe thead th {\n",
       "        text-align: right;\n",
       "    }\n",
       "</style>\n",
       "<table border=\"1\" class=\"dataframe\">\n",
       "  <thead>\n",
       "    <tr style=\"text-align: right;\">\n",
       "      <th></th>\n",
       "      <th>Airline</th>\n",
       "      <th>Total stops</th>\n",
       "      <th>Price</th>\n",
       "      <th>Class</th>\n",
       "      <th>Origin</th>\n",
       "      <th>Destination</th>\n",
       "      <th>Month</th>\n",
       "      <th>Day</th>\n",
       "      <th>Departure Hour</th>\n",
       "      <th>Departure Minute</th>\n",
       "      <th>Arrival Hour</th>\n",
       "      <th>Arrival Minute</th>\n",
       "      <th>Duration_hours</th>\n",
       "      <th>Duration_minutes</th>\n",
       "    </tr>\n",
       "  </thead>\n",
       "  <tbody>\n",
       "    <tr>\n",
       "      <th>0</th>\n",
       "      <td>84</td>\n",
       "      <td>direct</td>\n",
       "      <td>17561</td>\n",
       "      <td>11</td>\n",
       "      <td>0</td>\n",
       "      <td>2</td>\n",
       "      <td>6</td>\n",
       "      <td>5</td>\n",
       "      <td>10</td>\n",
       "      <td>10</td>\n",
       "      <td>12</td>\n",
       "      <td>15</td>\n",
       "      <td>3</td>\n",
       "      <td>35</td>\n",
       "    </tr>\n",
       "    <tr>\n",
       "      <th>1</th>\n",
       "      <td>10</td>\n",
       "      <td>1 stop</td>\n",
       "      <td>9617</td>\n",
       "      <td>11</td>\n",
       "      <td>0</td>\n",
       "      <td>2</td>\n",
       "      <td>6</td>\n",
       "      <td>5</td>\n",
       "      <td>21</td>\n",
       "      <td>25</td>\n",
       "      <td>22</td>\n",
       "      <td>50</td>\n",
       "      <td>26</td>\n",
       "      <td>55</td>\n",
       "    </tr>\n",
       "    <tr>\n",
       "      <th>2</th>\n",
       "      <td>84</td>\n",
       "      <td>direct</td>\n",
       "      <td>17561</td>\n",
       "      <td>11</td>\n",
       "      <td>0</td>\n",
       "      <td>2</td>\n",
       "      <td>6</td>\n",
       "      <td>5</td>\n",
       "      <td>15</td>\n",
       "      <td>40</td>\n",
       "      <td>17</td>\n",
       "      <td>45</td>\n",
       "      <td>3</td>\n",
       "      <td>35</td>\n",
       "    </tr>\n",
       "    <tr>\n",
       "      <th>3</th>\n",
       "      <td>103</td>\n",
       "      <td>1 stop</td>\n",
       "      <td>11067</td>\n",
       "      <td>11</td>\n",
       "      <td>0</td>\n",
       "      <td>2</td>\n",
       "      <td>6</td>\n",
       "      <td>5</td>\n",
       "      <td>19</td>\n",
       "      <td>0</td>\n",
       "      <td>23</td>\n",
       "      <td>25</td>\n",
       "      <td>5</td>\n",
       "      <td>55</td>\n",
       "    </tr>\n",
       "    <tr>\n",
       "      <th>4</th>\n",
       "      <td>64</td>\n",
       "      <td>1 stop</td>\n",
       "      <td>11968</td>\n",
       "      <td>11</td>\n",
       "      <td>0</td>\n",
       "      <td>2</td>\n",
       "      <td>6</td>\n",
       "      <td>5</td>\n",
       "      <td>19</td>\n",
       "      <td>50</td>\n",
       "      <td>1</td>\n",
       "      <td>40</td>\n",
       "      <td>7</td>\n",
       "      <td>20</td>\n",
       "    </tr>\n",
       "  </tbody>\n",
       "</table>\n",
       "</div>"
      ],
      "text/plain": [
       "   Airline Total stops  Price  Class  Origin  Destination  Month  Day   \n",
       "0       84      direct  17561     11       0            2      6    5  \\\n",
       "1       10      1 stop   9617     11       0            2      6    5   \n",
       "2       84      direct  17561     11       0            2      6    5   \n",
       "3      103      1 stop  11067     11       0            2      6    5   \n",
       "4       64      1 stop  11968     11       0            2      6    5   \n",
       "\n",
       "   Departure Hour  Departure Minute  Arrival Hour  Arrival Minute   \n",
       "0              10                10            12              15  \\\n",
       "1              21                25            22              50   \n",
       "2              15                40            17              45   \n",
       "3              19                 0            23              25   \n",
       "4              19                50             1              40   \n",
       "\n",
       "   Duration_hours  Duration_minutes  \n",
       "0               3                35  \n",
       "1              26                55  \n",
       "2               3                35  \n",
       "3               5                55  \n",
       "4               7                20  "
      ]
     },
     "execution_count": 17,
     "metadata": {},
     "output_type": "execute_result"
    }
   ],
   "source": [
    "data.head()"
   ]
  },
  {
   "cell_type": "code",
   "execution_count": 18,
   "id": "ddd82dd5",
   "metadata": {},
   "outputs": [
    {
     "data": {
      "text/plain": [
       "(479822, 14)"
      ]
     },
     "execution_count": 18,
     "metadata": {},
     "output_type": "execute_result"
    }
   ],
   "source": [
    "data.shape"
   ]
  },
  {
   "cell_type": "code",
   "execution_count": 19,
   "id": "474b4854",
   "metadata": {},
   "outputs": [
    {
     "data": {
      "text/plain": [
       "152735"
      ]
     },
     "execution_count": 19,
     "metadata": {},
     "output_type": "execute_result"
    }
   ],
   "source": [
    "data.duplicated().sum()"
   ]
  },
  {
   "cell_type": "code",
   "execution_count": 20,
   "id": "f9c0d8ef",
   "metadata": {},
   "outputs": [],
   "source": [
    "data.drop_duplicates(inplace=True)"
   ]
  },
  {
   "cell_type": "code",
   "execution_count": 21,
   "id": "3fabc022",
   "metadata": {},
   "outputs": [
    {
     "data": {
      "text/plain": [
       "(327087, 14)"
      ]
     },
     "execution_count": 21,
     "metadata": {},
     "output_type": "execute_result"
    }
   ],
   "source": [
    "data.shape"
   ]
  },
  {
   "cell_type": "code",
   "execution_count": 22,
   "id": "041ec381",
   "metadata": {},
   "outputs": [
    {
     "data": {
      "text/html": [
       "<div>\n",
       "<style scoped>\n",
       "    .dataframe tbody tr th:only-of-type {\n",
       "        vertical-align: middle;\n",
       "    }\n",
       "\n",
       "    .dataframe tbody tr th {\n",
       "        vertical-align: top;\n",
       "    }\n",
       "\n",
       "    .dataframe thead th {\n",
       "        text-align: right;\n",
       "    }\n",
       "</style>\n",
       "<table border=\"1\" class=\"dataframe\">\n",
       "  <thead>\n",
       "    <tr style=\"text-align: right;\">\n",
       "      <th></th>\n",
       "      <th>Airline</th>\n",
       "      <th>Total stops</th>\n",
       "      <th>Price</th>\n",
       "      <th>Class</th>\n",
       "      <th>Origin</th>\n",
       "      <th>Destination</th>\n",
       "      <th>Month</th>\n",
       "      <th>Day</th>\n",
       "      <th>Departure Hour</th>\n",
       "      <th>Departure Minute</th>\n",
       "      <th>Arrival Hour</th>\n",
       "      <th>Arrival Minute</th>\n",
       "      <th>Duration_hours</th>\n",
       "      <th>Duration_minutes</th>\n",
       "    </tr>\n",
       "  </thead>\n",
       "  <tbody>\n",
       "    <tr>\n",
       "      <th>0</th>\n",
       "      <td>84</td>\n",
       "      <td>direct</td>\n",
       "      <td>17561</td>\n",
       "      <td>11</td>\n",
       "      <td>0</td>\n",
       "      <td>2</td>\n",
       "      <td>6</td>\n",
       "      <td>5</td>\n",
       "      <td>10</td>\n",
       "      <td>10</td>\n",
       "      <td>12</td>\n",
       "      <td>15</td>\n",
       "      <td>3</td>\n",
       "      <td>35</td>\n",
       "    </tr>\n",
       "    <tr>\n",
       "      <th>1</th>\n",
       "      <td>10</td>\n",
       "      <td>1 stop</td>\n",
       "      <td>9617</td>\n",
       "      <td>11</td>\n",
       "      <td>0</td>\n",
       "      <td>2</td>\n",
       "      <td>6</td>\n",
       "      <td>5</td>\n",
       "      <td>21</td>\n",
       "      <td>25</td>\n",
       "      <td>22</td>\n",
       "      <td>50</td>\n",
       "      <td>26</td>\n",
       "      <td>55</td>\n",
       "    </tr>\n",
       "    <tr>\n",
       "      <th>2</th>\n",
       "      <td>84</td>\n",
       "      <td>direct</td>\n",
       "      <td>17561</td>\n",
       "      <td>11</td>\n",
       "      <td>0</td>\n",
       "      <td>2</td>\n",
       "      <td>6</td>\n",
       "      <td>5</td>\n",
       "      <td>15</td>\n",
       "      <td>40</td>\n",
       "      <td>17</td>\n",
       "      <td>45</td>\n",
       "      <td>3</td>\n",
       "      <td>35</td>\n",
       "    </tr>\n",
       "    <tr>\n",
       "      <th>3</th>\n",
       "      <td>103</td>\n",
       "      <td>1 stop</td>\n",
       "      <td>11067</td>\n",
       "      <td>11</td>\n",
       "      <td>0</td>\n",
       "      <td>2</td>\n",
       "      <td>6</td>\n",
       "      <td>5</td>\n",
       "      <td>19</td>\n",
       "      <td>0</td>\n",
       "      <td>23</td>\n",
       "      <td>25</td>\n",
       "      <td>5</td>\n",
       "      <td>55</td>\n",
       "    </tr>\n",
       "    <tr>\n",
       "      <th>4</th>\n",
       "      <td>64</td>\n",
       "      <td>1 stop</td>\n",
       "      <td>11968</td>\n",
       "      <td>11</td>\n",
       "      <td>0</td>\n",
       "      <td>2</td>\n",
       "      <td>6</td>\n",
       "      <td>5</td>\n",
       "      <td>19</td>\n",
       "      <td>50</td>\n",
       "      <td>1</td>\n",
       "      <td>40</td>\n",
       "      <td>7</td>\n",
       "      <td>20</td>\n",
       "    </tr>\n",
       "  </tbody>\n",
       "</table>\n",
       "</div>"
      ],
      "text/plain": [
       "   Airline Total stops  Price  Class  Origin  Destination  Month  Day   \n",
       "0       84      direct  17561     11       0            2      6    5  \\\n",
       "1       10      1 stop   9617     11       0            2      6    5   \n",
       "2       84      direct  17561     11       0            2      6    5   \n",
       "3      103      1 stop  11067     11       0            2      6    5   \n",
       "4       64      1 stop  11968     11       0            2      6    5   \n",
       "\n",
       "   Departure Hour  Departure Minute  Arrival Hour  Arrival Minute   \n",
       "0              10                10            12              15  \\\n",
       "1              21                25            22              50   \n",
       "2              15                40            17              45   \n",
       "3              19                 0            23              25   \n",
       "4              19                50             1              40   \n",
       "\n",
       "   Duration_hours  Duration_minutes  \n",
       "0               3                35  \n",
       "1              26                55  \n",
       "2               3                35  \n",
       "3               5                55  \n",
       "4               7                20  "
      ]
     },
     "execution_count": 22,
     "metadata": {},
     "output_type": "execute_result"
    }
   ],
   "source": [
    "data.head()"
   ]
  },
  {
   "cell_type": "code",
   "execution_count": 23,
   "id": "30c96694",
   "metadata": {},
   "outputs": [
    {
     "data": {
      "text/plain": [
       "Total stops\n",
       "1 stop     235466\n",
       "2 stops     53044\n",
       "direct      29892\n",
       "3 stops      8685\n",
       "Name: count, dtype: int64"
      ]
     },
     "execution_count": 23,
     "metadata": {},
     "output_type": "execute_result"
    }
   ],
   "source": [
    "data['Total stops'].value_counts()"
   ]
  },
  {
   "cell_type": "code",
   "execution_count": 24,
   "id": "4a5a43a6",
   "metadata": {},
   "outputs": [],
   "source": [
    "data['Total stops'] = data['Total stops'].map({'direct':0, '1 stop': 1, '2 stops': 2, '3 stops': 3})"
   ]
  },
  {
   "cell_type": "code",
   "execution_count": 25,
   "id": "9e03a288",
   "metadata": {
    "scrolled": true
   },
   "outputs": [
    {
     "data": {
      "text/html": [
       "<div>\n",
       "<style scoped>\n",
       "    .dataframe tbody tr th:only-of-type {\n",
       "        vertical-align: middle;\n",
       "    }\n",
       "\n",
       "    .dataframe tbody tr th {\n",
       "        vertical-align: top;\n",
       "    }\n",
       "\n",
       "    .dataframe thead th {\n",
       "        text-align: right;\n",
       "    }\n",
       "</style>\n",
       "<table border=\"1\" class=\"dataframe\">\n",
       "  <thead>\n",
       "    <tr style=\"text-align: right;\">\n",
       "      <th></th>\n",
       "      <th>Airline</th>\n",
       "      <th>Total stops</th>\n",
       "      <th>Price</th>\n",
       "      <th>Class</th>\n",
       "      <th>Origin</th>\n",
       "      <th>Destination</th>\n",
       "      <th>Month</th>\n",
       "      <th>Day</th>\n",
       "      <th>Departure Hour</th>\n",
       "      <th>Departure Minute</th>\n",
       "      <th>Arrival Hour</th>\n",
       "      <th>Arrival Minute</th>\n",
       "      <th>Duration_hours</th>\n",
       "      <th>Duration_minutes</th>\n",
       "    </tr>\n",
       "  </thead>\n",
       "  <tbody>\n",
       "    <tr>\n",
       "      <th>0</th>\n",
       "      <td>84</td>\n",
       "      <td>0</td>\n",
       "      <td>17561</td>\n",
       "      <td>11</td>\n",
       "      <td>0</td>\n",
       "      <td>2</td>\n",
       "      <td>6</td>\n",
       "      <td>5</td>\n",
       "      <td>10</td>\n",
       "      <td>10</td>\n",
       "      <td>12</td>\n",
       "      <td>15</td>\n",
       "      <td>3</td>\n",
       "      <td>35</td>\n",
       "    </tr>\n",
       "    <tr>\n",
       "      <th>1</th>\n",
       "      <td>10</td>\n",
       "      <td>1</td>\n",
       "      <td>9617</td>\n",
       "      <td>11</td>\n",
       "      <td>0</td>\n",
       "      <td>2</td>\n",
       "      <td>6</td>\n",
       "      <td>5</td>\n",
       "      <td>21</td>\n",
       "      <td>25</td>\n",
       "      <td>22</td>\n",
       "      <td>50</td>\n",
       "      <td>26</td>\n",
       "      <td>55</td>\n",
       "    </tr>\n",
       "    <tr>\n",
       "      <th>2</th>\n",
       "      <td>84</td>\n",
       "      <td>0</td>\n",
       "      <td>17561</td>\n",
       "      <td>11</td>\n",
       "      <td>0</td>\n",
       "      <td>2</td>\n",
       "      <td>6</td>\n",
       "      <td>5</td>\n",
       "      <td>15</td>\n",
       "      <td>40</td>\n",
       "      <td>17</td>\n",
       "      <td>45</td>\n",
       "      <td>3</td>\n",
       "      <td>35</td>\n",
       "    </tr>\n",
       "    <tr>\n",
       "      <th>3</th>\n",
       "      <td>103</td>\n",
       "      <td>1</td>\n",
       "      <td>11067</td>\n",
       "      <td>11</td>\n",
       "      <td>0</td>\n",
       "      <td>2</td>\n",
       "      <td>6</td>\n",
       "      <td>5</td>\n",
       "      <td>19</td>\n",
       "      <td>0</td>\n",
       "      <td>23</td>\n",
       "      <td>25</td>\n",
       "      <td>5</td>\n",
       "      <td>55</td>\n",
       "    </tr>\n",
       "    <tr>\n",
       "      <th>4</th>\n",
       "      <td>64</td>\n",
       "      <td>1</td>\n",
       "      <td>11968</td>\n",
       "      <td>11</td>\n",
       "      <td>0</td>\n",
       "      <td>2</td>\n",
       "      <td>6</td>\n",
       "      <td>5</td>\n",
       "      <td>19</td>\n",
       "      <td>50</td>\n",
       "      <td>1</td>\n",
       "      <td>40</td>\n",
       "      <td>7</td>\n",
       "      <td>20</td>\n",
       "    </tr>\n",
       "  </tbody>\n",
       "</table>\n",
       "</div>"
      ],
      "text/plain": [
       "   Airline  Total stops  Price  Class  Origin  Destination  Month  Day   \n",
       "0       84            0  17561     11       0            2      6    5  \\\n",
       "1       10            1   9617     11       0            2      6    5   \n",
       "2       84            0  17561     11       0            2      6    5   \n",
       "3      103            1  11067     11       0            2      6    5   \n",
       "4       64            1  11968     11       0            2      6    5   \n",
       "\n",
       "   Departure Hour  Departure Minute  Arrival Hour  Arrival Minute   \n",
       "0              10                10            12              15  \\\n",
       "1              21                25            22              50   \n",
       "2              15                40            17              45   \n",
       "3              19                 0            23              25   \n",
       "4              19                50             1              40   \n",
       "\n",
       "   Duration_hours  Duration_minutes  \n",
       "0               3                35  \n",
       "1              26                55  \n",
       "2               3                35  \n",
       "3               5                55  \n",
       "4               7                20  "
      ]
     },
     "execution_count": 25,
     "metadata": {},
     "output_type": "execute_result"
    }
   ],
   "source": [
    "data.head()"
   ]
  },
  {
   "cell_type": "code",
   "execution_count": 26,
   "id": "779b0060",
   "metadata": {},
   "outputs": [
    {
     "data": {
      "text/plain": [
       "<Axes: >"
      ]
     },
     "execution_count": 26,
     "metadata": {},
     "output_type": "execute_result"
    },
    {
     "data": {
      "image/png": "[encoded data removed]",
      "text/plain": [
       "<Figure size 1200x800 with 2 Axes>"
      ]
     },
     "metadata": {},
     "output_type": "display_data"
    }
   ],
   "source": [
    "plt.figure(figsize=(12,8))\n",
    "sns.heatmap(data.corr(), annot=True, cmap=plt.cm.CMRmap)"
   ]
  },
  {
   "cell_type": "code",
   "execution_count": 27,
   "id": "a91b15da",
   "metadata": {},
   "outputs": [],
   "source": [
    "x = data.drop('Price', axis=1)\n",
    "y = data['Price']"
   ]
  },
  {
   "cell_type": "code",
   "execution_count": 28,
   "id": "95e00578",
   "metadata": {},
   "outputs": [],
   "source": [
    "from sklearn.metrics import mean_absolute_error as mae, mean_squared_error as mse, r2_score as r2\n",
    "\n",
    "score_df = pd.DataFrame(columns=['Model','Score'])\n",
    "a = []\n",
    "b = []\n",
    "\n",
    "# Function for check performance of model\n",
    "def get_metric(x,y, model=None):\n",
    "    r = r2(x,y)*100\n",
    "    \n",
    "    print('MAE : {:.2f}'.format(mae(x,y)*100))\n",
    "    print('MSE : {:.2f}'.format(mse(x,y)*100))\n",
    "    print('RMSE : {:.2f}'.format(np.sqrt(mse(x,y)*100)))\n",
    "    print('R2 : {:.2f}%'.format(r))\n",
    "    \n",
    "    if model != None:\n",
    "        a.append(model)\n",
    "        b.append(r)"
   ]
  },
  {
   "cell_type": "code",
   "execution_count": 29,
   "id": "19b3b3fb",
   "metadata": {},
   "outputs": [],
   "source": [
    "from sklearn.model_selection import train_test_split\n",
    "\n",
    "x_train, x_test, y_train, y_test = train_test_split(x,y, test_size=0.3, random_state=10)"
   ]
  },
  {
   "cell_type": "code",
   "execution_count": 32,
   "id": "061c1d2c",
   "metadata": {},
   "outputs": [
    {
     "name": "stdout",
     "output_type": "stream",
     "text": [
      "MAE : 321516.88\n",
      "MSE : 5059058881.88\n",
      "RMSE : 71127.06\n",
      "R2 : 92.88%\n"
     ]
    }
   ],
   "source": [
    "from sklearn.neighbors import KNeighborsRegressor\n",
    "\n",
    "model = KNeighborsRegressor()\n",
    "model.fit(x_train, y_train)\n",
    "y_pred = model.predict(x_test)\n",
    "get_metric(y_pred, y_test)"
   ]
  },
  {
   "cell_type": "code",
   "execution_count": 33,
   "id": "2948f87b",
   "metadata": {},
   "outputs": [
    {
     "name": "stdout",
     "output_type": "stream",
     "text": [
      "MAE : 322111.74\n",
      "MSE : 6727799002.46\n",
      "RMSE : 82023.16\n",
      "R2 : 90.68%\n"
     ]
    }
   ],
   "source": [
    "from sklearn.tree import DecisionTreeRegressor\n",
    "\n",
    "model = DecisionTreeRegressor()\n",
    "model.fit(x_train, y_train)\n",
    "y_pred = model.predict(x_test)\n",
    "get_metric(y_pred, y_test)"
   ]
  },
  {
   "cell_type": "code",
   "execution_count": 35,
   "id": "afa47c4b",
   "metadata": {},
   "outputs": [
    {
     "name": "stdout",
     "output_type": "stream",
     "text": [
      "MAE : 308140.88\n",
      "MSE : 5481598532.20\n",
      "RMSE : 74037.82\n",
      "R2 : 92.32%\n"
     ]
    }
   ],
   "source": [
    "from sklearn.ensemble import RandomForestRegressor\n",
    "\n",
    "model = RandomForestRegressor()\n",
    "model.fit(x_train, y_train)\n",
    "y_pred = model.predict(x_test)\n",
    "get_metric(y_pred, y_test)"
   ]
  },
  {
   "cell_type": "code",
   "execution_count": 36,
   "id": "8370e265",
   "metadata": {},
   "outputs": [],
   "source": [
    "from sklearn.model_selection import RandomizedSearchCV\n",
    "\n",
    "n_estimators = [int(x) for x in range(10,101,5)]\n",
    "max_features = ['auto', 'sqrt']\n",
    "max_depth = [int(x) for x in range(6, 15)]\n",
    "min_samples_split = [2, 5, 10, 15, 50]\n",
    "min_samples_leaf = [1, 2, 5, 10]\n",
    "\n",
    "# Creating a Parameter's dataframe\n",
    "random_df={'n_estimators': n_estimators,\n",
    "           'max_features': max_features,\n",
    "           'max_depth': max_depth,\n",
    "           'min_samples_split': min_samples_split,\n",
    "           'min_samples_leaf': min_samples_leaf\n",
    "          }"
   ]
  },
  {
   "cell_type": "code",
   "execution_count": 38,
   "id": "164049b1",
   "metadata": {},
   "outputs": [],
   "source": [
    "rCV = RandomizedSearchCV(estimator=model, param_distributions=random_df, scoring='neg_mean_squared_error',\n",
    "                             n_iter=10,cv=5,random_state=10)"
   ]
  },
  {
   "cell_type": "code",
   "execution_count": 40,
   "id": "756b3137",
   "metadata": {},
   "outputs": [
    {
     "name": "stderr",
     "output_type": "stream",
     "text": [
      "C:\\Users\\amanr\\.conda\\envs\\myenv\\lib\\site-packages\\sklearn\\ensemble\\_forest.py:413: FutureWarning: `max_features='auto'` has been deprecated in 1.1 and will be removed in 1.3. To keep the past behaviour, explicitly set `max_features=1.0` or remove this parameter as it is also the default value for RandomForestRegressors and ExtraTreesRegressors.\n",
      "  warn(\n",
      "C:\\Users\\amanr\\.conda\\envs\\myenv\\lib\\site-packages\\sklearn\\ensemble\\_forest.py:413: FutureWarning: `max_features='auto'` has been deprecated in 1.1 and will be removed in 1.3. To keep the past behaviour, explicitly set `max_features=1.0` or remove this parameter as it is also the default value for RandomForestRegressors and ExtraTreesRegressors.\n",
      "  warn(\n",
      "C:\\Users\\amanr\\.conda\\envs\\myenv\\lib\\site-packages\\sklearn\\ensemble\\_forest.py:413: FutureWarning: `max_features='auto'` has been deprecated in 1.1 and will be removed in 1.3. To keep the past behaviour, explicitly set `max_features=1.0` or remove this parameter as it is also the default value for RandomForestRegressors and ExtraTreesRegressors.\n",
      "  warn(\n",
      "C:\\Users\\amanr\\.conda\\envs\\myenv\\lib\\site-packages\\sklearn\\ensemble\\_forest.py:413: FutureWarning: `max_features='auto'` has been deprecated in 1.1 and will be removed in 1.3. To keep the past behaviour, explicitly set `max_features=1.0` or remove this parameter as it is also the default value for RandomForestRegressors and ExtraTreesRegressors.\n",
      "  warn(\n",
      "C:\\Users\\amanr\\.conda\\envs\\myenv\\lib\\site-packages\\sklearn\\ensemble\\_forest.py:413: FutureWarning: `max_features='auto'` has been deprecated in 1.1 and will be removed in 1.3. To keep the past behaviour, explicitly set `max_features=1.0` or remove this parameter as it is also the default value for RandomForestRegressors and ExtraTreesRegressors.\n",
      "  warn(\n",
      "C:\\Users\\amanr\\.conda\\envs\\myenv\\lib\\site-packages\\sklearn\\ensemble\\_forest.py:413: FutureWarning: `max_features='auto'` has been deprecated in 1.1 and will be removed in 1.3. To keep the past behaviour, explicitly set `max_features=1.0` or remove this parameter as it is also the default value for RandomForestRegressors and ExtraTreesRegressors.\n",
      "  warn(\n",
      "C:\\Users\\amanr\\.conda\\envs\\myenv\\lib\\site-packages\\sklearn\\ensemble\\_forest.py:413: FutureWarning: `max_features='auto'` has been deprecated in 1.1 and will be removed in 1.3. To keep the past behaviour, explicitly set `max_features=1.0` or remove this parameter as it is also the default value for RandomForestRegressors and ExtraTreesRegressors.\n",
      "  warn(\n",
      "C:\\Users\\amanr\\.conda\\envs\\myenv\\lib\\site-packages\\sklearn\\ensemble\\_forest.py:413: FutureWarning: `max_features='auto'` has been deprecated in 1.1 and will be removed in 1.3. To keep the past behaviour, explicitly set `max_features=1.0` or remove this parameter as it is also the default value for RandomForestRegressors and ExtraTreesRegressors.\n",
      "  warn(\n",
      "C:\\Users\\amanr\\.conda\\envs\\myenv\\lib\\site-packages\\sklearn\\ensemble\\_forest.py:413: FutureWarning: `max_features='auto'` has been deprecated in 1.1 and will be removed in 1.3. To keep the past behaviour, explicitly set `max_features=1.0` or remove this parameter as it is also the default value for RandomForestRegressors and ExtraTreesRegressors.\n",
      "  warn(\n",
      "C:\\Users\\amanr\\.conda\\envs\\myenv\\lib\\site-packages\\sklearn\\ensemble\\_forest.py:413: FutureWarning: `max_features='auto'` has been deprecated in 1.1 and will be removed in 1.3. To keep the past behaviour, explicitly set `max_features=1.0` or remove this parameter as it is also the default value for RandomForestRegressors and ExtraTreesRegressors.\n",
      "  warn(\n",
      "C:\\Users\\amanr\\.conda\\envs\\myenv\\lib\\site-packages\\sklearn\\ensemble\\_forest.py:413: FutureWarning: `max_features='auto'` has been deprecated in 1.1 and will be removed in 1.3. To keep the past behaviour, explicitly set `max_features=1.0` or remove this parameter as it is also the default value for RandomForestRegressors and ExtraTreesRegressors.\n",
      "  warn(\n",
      "C:\\Users\\amanr\\.conda\\envs\\myenv\\lib\\site-packages\\sklearn\\ensemble\\_forest.py:413: FutureWarning: `max_features='auto'` has been deprecated in 1.1 and will be removed in 1.3. To keep the past behaviour, explicitly set `max_features=1.0` or remove this parameter as it is also the default value for RandomForestRegressors and ExtraTreesRegressors.\n",
      "  warn(\n",
      "C:\\Users\\amanr\\.conda\\envs\\myenv\\lib\\site-packages\\sklearn\\ensemble\\_forest.py:413: FutureWarning: `max_features='auto'` has been deprecated in 1.1 and will be removed in 1.3. To keep the past behaviour, explicitly set `max_features=1.0` or remove this parameter as it is also the default value for RandomForestRegressors and ExtraTreesRegressors.\n",
      "  warn(\n",
      "C:\\Users\\amanr\\.conda\\envs\\myenv\\lib\\site-packages\\sklearn\\ensemble\\_forest.py:413: FutureWarning: `max_features='auto'` has been deprecated in 1.1 and will be removed in 1.3. To keep the past behaviour, explicitly set `max_features=1.0` or remove this parameter as it is also the default value for RandomForestRegressors and ExtraTreesRegressors.\n",
      "  warn(\n",
      "C:\\Users\\amanr\\.conda\\envs\\myenv\\lib\\site-packages\\sklearn\\ensemble\\_forest.py:413: FutureWarning: `max_features='auto'` has been deprecated in 1.1 and will be removed in 1.3. To keep the past behaviour, explicitly set `max_features=1.0` or remove this parameter as it is also the default value for RandomForestRegressors and ExtraTreesRegressors.\n",
      "  warn(\n",
      "C:\\Users\\amanr\\.conda\\envs\\myenv\\lib\\site-packages\\sklearn\\ensemble\\_forest.py:413: FutureWarning: `max_features='auto'` has been deprecated in 1.1 and will be removed in 1.3. To keep the past behaviour, explicitly set `max_features=1.0` or remove this parameter as it is also the default value for RandomForestRegressors and ExtraTreesRegressors.\n",
      "  warn(\n"
     ]
    },
    {
     "data": {
      "text/html": [
       "<style>#sk-container-id-2 {color: black;background-color: white;}#sk-container-id-2 pre{padding: 0;}#sk-container-id-2 div.sk-toggleable {background-color: white;}#sk-container-id-2 label.sk-toggleable__label {cursor: pointer;display: block;width: 100%;margin-bottom: 0;padding: 0.3em;box-sizing: border-box;text-align: center;}#sk-container-id-2 label.sk-toggleable__label-arrow:before {content: \"▸\";float: left;margin-right: 0.25em;color: #696969;}#sk-container-id-2 label.sk-toggleable__label-arrow:hover:before {color: black;}#sk-container-id-2 div.sk-estimator:hover label.sk-toggleable__label-arrow:before {color: black;}#sk-container-id-2 div.sk-toggleable__content {max-height: 0;max-width: 0;overflow: hidden;text-align: left;background-color: #f0f8ff;}#sk-container-id-2 div.sk-toggleable__content pre {margin: 0.2em;color: black;border-radius: 0.25em;background-color: #f0f8ff;}#sk-container-id-2 input.sk-toggleable__control:checked~div.sk-toggleable__content {max-height: 200px;max-width: 100%;overflow: auto;}#sk-container-id-2 input.sk-toggleable__control:checked~label.sk-toggleable__label-arrow:before {content: \"▾\";}#sk-container-id-2 div.sk-estimator input.sk-toggleable__control:checked~label.sk-toggleable__label {background-color: #d4ebff;}#sk-container-id-2 div.sk-label input.sk-toggleable__control:checked~label.sk-toggleable__label {background-color: #d4ebff;}#sk-container-id-2 input.sk-hidden--visually {border: 0;clip: rect(1px 1px 1px 1px);clip: rect(1px, 1px, 1px, 1px);height: 1px;margin: -1px;overflow: hidden;padding: 0;position: absolute;width: 1px;}#sk-container-id-2 div.sk-estimator {font-family: monospace;background-color: #f0f8ff;border: 1px dotted black;border-radius: 0.25em;box-sizing: border-box;margin-bottom: 0.5em;}#sk-container-id-2 div.sk-estimator:hover {background-color: #d4ebff;}#sk-container-id-2 div.sk-parallel-item::after {content: \"\";width: 100%;border-bottom: 1px solid gray;flex-grow: 1;}#sk-container-id-2 div.sk-label:hover label.sk-toggleable__label {background-color: #d4ebff;}#sk-container-id-2 div.sk-serial::before {content: \"\";position: absolute;border-left: 1px solid gray;box-sizing: border-box;top: 0;bottom: 0;left: 50%;z-index: 0;}#sk-container-id-2 div.sk-serial {display: flex;flex-direction: column;align-items: center;background-color: white;padding-right: 0.2em;padding-left: 0.2em;position: relative;}#sk-container-id-2 div.sk-item {position: relative;z-index: 1;}#sk-container-id-2 div.sk-parallel {display: flex;align-items: stretch;justify-content: center;background-color: white;position: relative;}#sk-container-id-2 div.sk-item::before, #sk-container-id-2 div.sk-parallel-item::before {content: \"\";position: absolute;border-left: 1px solid gray;box-sizing: border-box;top: 0;bottom: 0;left: 50%;z-index: -1;}#sk-container-id-2 div.sk-parallel-item {display: flex;flex-direction: column;z-index: 1;position: relative;background-color: white;}#sk-container-id-2 div.sk-parallel-item:first-child::after {align-self: flex-end;width: 50%;}#sk-container-id-2 div.sk-parallel-item:last-child::after {align-self: flex-start;width: 50%;}#sk-container-id-2 div.sk-parallel-item:only-child::after {width: 0;}#sk-container-id-2 div.sk-dashed-wrapped {border: 1px dashed gray;margin: 0 0.4em 0.5em 0.4em;box-sizing: border-box;padding-bottom: 0.4em;background-color: white;}#sk-container-id-2 div.sk-label label {font-family: monospace;font-weight: bold;display: inline-block;line-height: 1.2em;}#sk-container-id-2 div.sk-label-container {text-align: center;}#sk-container-id-2 div.sk-container {/* jupyter's `normalize.less` sets `[hidden] { display: none; }` but bootstrap.min.css set `[hidden] { display: none !important; }` so we also need the `!important` here to be able to override the default hidden behavior on the sphinx rendered scikit-learn.org. See: https://github.com/scikit-learn/scikit-learn/issues/21755 */display: inline-block !important;position: relative;}#sk-container-id-2 div.sk-text-repr-fallback {display: none;}</style><div id=\"sk-container-id-2\" class=\"sk-top-container\"><div class=\"sk-text-repr-fallback\"><pre>RandomizedSearchCV(cv=5, estimator=RandomForestRegressor(),\n",
       "                   param_distributions={&#x27;max_depth&#x27;: [6, 7, 8, 9, 10, 11, 12,\n",
       "                                                      13, 14],\n",
       "                                        &#x27;max_features&#x27;: [&#x27;auto&#x27;, &#x27;sqrt&#x27;],\n",
       "                                        &#x27;min_samples_leaf&#x27;: [1, 2, 5, 10],\n",
       "                                        &#x27;min_samples_split&#x27;: [2, 5, 10, 15, 50],\n",
       "                                        &#x27;n_estimators&#x27;: [10, 15, 20, 25, 30, 35,\n",
       "                                                         40, 45, 50, 55, 60, 65,\n",
       "                                                         70, 75, 80, 85, 90, 95,\n",
       "                                                         100]},\n",
       "                   random_state=10, scoring=&#x27;neg_mean_squared_error&#x27;)</pre><b>In a Jupyter environment, please rerun this cell to show the HTML representation or trust the notebook. <br />On GitHub, the HTML representation is unable to render, please try loading this page with nbviewer.org.</b></div><div class=\"sk-container\" hidden><div class=\"sk-item sk-dashed-wrapped\"><div class=\"sk-label-container\"><div class=\"sk-label sk-toggleable\"><input class=\"sk-toggleable__control sk-hidden--visually\" id=\"sk-estimator-id-2\" type=\"checkbox\" ><label for=\"sk-estimator-id-2\" class=\"sk-toggleable__label sk-toggleable__label-arrow\">RandomizedSearchCV</label><div class=\"sk-toggleable__content\"><pre>RandomizedSearchCV(cv=5, estimator=RandomForestRegressor(),\n",
       "                   param_distributions={&#x27;max_depth&#x27;: [6, 7, 8, 9, 10, 11, 12,\n",
       "                                                      13, 14],\n",
       "                                        &#x27;max_features&#x27;: [&#x27;auto&#x27;, &#x27;sqrt&#x27;],\n",
       "                                        &#x27;min_samples_leaf&#x27;: [1, 2, 5, 10],\n",
       "                                        &#x27;min_samples_split&#x27;: [2, 5, 10, 15, 50],\n",
       "                                        &#x27;n_estimators&#x27;: [10, 15, 20, 25, 30, 35,\n",
       "                                                         40, 45, 50, 55, 60, 65,\n",
       "                                                         70, 75, 80, 85, 90, 95,\n",
       "                                                         100]},\n",
       "                   random_state=10, scoring=&#x27;neg_mean_squared_error&#x27;)</pre></div></div></div><div class=\"sk-parallel\"><div class=\"sk-parallel-item\"><div class=\"sk-item\"><div class=\"sk-label-container\"><div class=\"sk-label sk-toggleable\"><input class=\"sk-toggleable__control sk-hidden--visually\" id=\"sk-estimator-id-3\" type=\"checkbox\" ><label for=\"sk-estimator-id-3\" class=\"sk-toggleable__label sk-toggleable__label-arrow\">estimator: RandomForestRegressor</label><div class=\"sk-toggleable__content\"><pre>RandomForestRegressor()</pre></div></div></div><div class=\"sk-serial\"><div class=\"sk-item\"><div class=\"sk-estimator sk-toggleable\"><input class=\"sk-toggleable__control sk-hidden--visually\" id=\"sk-estimator-id-4\" type=\"checkbox\" ><label for=\"sk-estimator-id-4\" class=\"sk-toggleable__label sk-toggleable__label-arrow\">RandomForestRegressor</label><div class=\"sk-toggleable__content\"><pre>RandomForestRegressor()</pre></div></div></div></div></div></div></div></div></div></div>"
      ],
      "text/plain": [
       "RandomizedSearchCV(cv=5, estimator=RandomForestRegressor(),\n",
       "                   param_distributions={'max_depth': [6, 7, 8, 9, 10, 11, 12,\n",
       "                                                      13, 14],\n",
       "                                        'max_features': ['auto', 'sqrt'],\n",
       "                                        'min_samples_leaf': [1, 2, 5, 10],\n",
       "                                        'min_samples_split': [2, 5, 10, 15, 50],\n",
       "                                        'n_estimators': [10, 15, 20, 25, 30, 35,\n",
       "                                                         40, 45, 50, 55, 60, 65,\n",
       "                                                         70, 75, 80, 85, 90, 95,\n",
       "                                                         100]},\n",
       "                   random_state=10, scoring='neg_mean_squared_error')"
      ]
     },
     "execution_count": 40,
     "metadata": {},
     "output_type": "execute_result"
    }
   ],
   "source": [
    "rCV.fit(x_train, y_train)"
   ]
  },
  {
   "cell_type": "code",
   "execution_count": 41,
   "id": "fa43517b",
   "metadata": {},
   "outputs": [],
   "source": [
    "rcv_pred = rCV.predict(x_test)"
   ]
  },
  {
   "cell_type": "code",
   "execution_count": 42,
   "id": "4a2879ba",
   "metadata": {},
   "outputs": [
    {
     "name": "stdout",
     "output_type": "stream",
     "text": [
      "MAE : 322749.89\n",
      "MSE : 4164089592.80\n",
      "RMSE : 64529.76\n",
      "R2 : 94.01%\n"
     ]
    }
   ],
   "source": [
    "get_metric(rcv_pred, y_test)"
   ]
  },
  {
   "cell_type": "code",
   "execution_count": null,
   "id": "1e099370",
   "metadata": {},
   "outputs": [],
   "source": []
  }
 ],
 "metadata": {
  "kernelspec": {
   "display_name": "myenv",
   "language": "python",
   "name": "myenv"
  },
  "language_info": {
   "codemirror_mode": {
    "name": "ipython",
    "version": 3
   },
   "file_extension": ".py",
   "mimetype": "text/x-python",
   "name": "python",
   "nbconvert_exporter": "python",
   "pygments_lexer": "ipython3",
   "version": "3.10.9"
  }
 },
 "nbformat": 4,
 "nbformat_minor": 5
}
